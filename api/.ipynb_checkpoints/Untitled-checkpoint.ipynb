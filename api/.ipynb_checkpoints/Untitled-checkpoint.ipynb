{
 "cells": [
  {
   "cell_type": "code",
   "execution_count": 2,
   "id": "052e47bd-e5de-4cfd-b836-caf0aa44fb63",
   "metadata": {
    "tags": []
   },
   "outputs": [],
   "source": [
    "from webscraper.uzt_client import UZTClient"
   ]
  },
  {
   "cell_type": "code",
   "execution_count": 60,
   "id": "ac68febe-e702-4876-87dc-de02d8f4fde8",
   "metadata": {
    "tags": []
   },
   "outputs": [],
   "source": [
    "from pydantic import BaseModel\n",
    "from datetime import date\n",
    "import json"
   ]
  },
  {
   "cell_type": "code",
   "execution_count": 99,
   "id": "5a3ad960-f79d-4851-b35a-936d3d0753ed",
   "metadata": {
    "tags": []
   },
   "outputs": [],
   "source": [
    "class Job(BaseModel):\n",
    "    date1: str\n",
    "    date2: str\n",
    "    title: str\n",
    "    company: str\n",
    "    place: str\n"
   ]
  },
  {
   "cell_type": "code",
   "execution_count": null,
   "id": "39baaf0a-a9d7-4497-b5bf-3244270f0032",
   "metadata": {},
   "outputs": [],
   "source": [
    "class Category(BaseModel):"
   ]
  },
  {
   "cell_type": "code",
   "execution_count": 106,
   "id": "21ed6949-9ea9-491b-b5f9-7af41db5e614",
   "metadata": {
    "tags": []
   },
   "outputs": [
    {
     "data": {
      "text/plain": [
       "<Response [200 OK]>"
      ]
     },
     "execution_count": 106,
     "metadata": {},
     "output_type": "execute_result"
    }
   ],
   "source": [
    "uzt = UZTClient()\n",
    "uzt.get(url=\"https://portal.uzt.lt/LDBPortal/Pages/ServicesForEmployees.aspx\")"
   ]
  },
  {
   "cell_type": "code",
   "execution_count": null,
   "id": "05b21ee4-cd83-4732-9399-369218f733b5",
   "metadata": {
    "tags": []
   },
   "outputs": [],
   "source": [
    "uzt.response.text"
   ]
  },
  {
   "cell_type": "raw",
   "id": "e73f0ec7-cb87-405b-b1ec-393a641aaa9f",
   "metadata": {},
   "source": [
    "'1|#||4|190|pageRedirect||%2fLDBPortal%2fPages%2fPositionOpeningPublic%2fPublicOpenPositionCard.aspx%3fbranch%3dPOSearch%26pageId%3db5d9f54e-64a1-43da-a28c-128a34b1d343%26itemID%3d8b611105-2723-4a32-8907-b6931e4b67a8|'\n",
    "\n"
   ]
  },
  {
   "cell_type": "code",
   "execution_count": 107,
   "id": "f4627910-48bf-4707-84d9-60fe7782b7d1",
   "metadata": {
    "tags": []
   },
   "outputs": [
    {
     "data": {
      "text/plain": [
       "<Response [200 OK]>"
      ]
     },
     "execution_count": 107,
     "metadata": {},
     "output_type": "execute_result"
    }
   ],
   "source": [
    "#open category\n",
    "uzt.submit_asp_form(\"javascript:__doPostBack('ctl00$MainArea$GroupedPOSearchTab$ProffessionGroups$ctl00$ProfGroup','')\")"
   ]
  },
  {
   "cell_type": "code",
   "execution_count": 127,
   "id": "9bb28dbb-a9a8-41ab-ae8f-89818317ddc0",
   "metadata": {
    "tags": []
   },
   "outputs": [
    {
     "data": {
      "text/plain": [
       "False"
      ]
     },
     "execution_count": 127,
     "metadata": {},
     "output_type": "execute_result"
    }
   ],
   "source": [
    "uzt.next_url"
   ]
  },
  {
   "cell_type": "code",
   "execution_count": 109,
   "id": "cd8b3ed5-2e1f-4d34-a6b4-13e1c9bb4b0c",
   "metadata": {
    "tags": []
   },
   "outputs": [
    {
     "data": {
      "text/plain": [
       "<Response [200 OK]>"
      ]
     },
     "execution_count": 109,
     "metadata": {},
     "output_type": "execute_result"
    }
   ],
   "source": [
    "uzt.get(url=uzt.next_url)"
   ]
  },
  {
   "cell_type": "code",
   "execution_count": 14,
   "id": "671958b5-67c4-4044-9cd5-653bd51c5dce",
   "metadata": {
    "tags": []
   },
   "outputs": [
    {
     "data": {
      "text/plain": [
       "{'status': 'The file has been successfully saved as save00_card.html'}"
      ]
     },
     "execution_count": 14,
     "metadata": {},
     "output_type": "execute_result"
    }
   ],
   "source": [
    "uzt.save_to_html(\"save00_card.html\")"
   ]
  },
  {
   "cell_type": "code",
   "execution_count": 126,
   "id": "63eab598-3f61-4532-9892-330ce82abc46",
   "metadata": {
    "tags": []
   },
   "outputs": [
    {
     "data": {
      "text/plain": [
       "<Response [200 OK]>"
      ]
     },
     "execution_count": 126,
     "metadata": {},
     "output_type": "execute_result"
    }
   ],
   "source": [
    "#next page\n",
    "uzt.submit_asp_form(\"javascript:__doPostBack('ctl00$MainArea$SearchResultsList$POGrid$ctl29$NextBtn','')\")"
   ]
  },
  {
   "cell_type": "raw",
   "id": "26f6e9f2-603e-498e-bf26-c2dde116adaa",
   "metadata": {},
   "source": [
    "#ToDo  is_next_page!!!\n",
    "==================================="
   ]
  },
  {
   "cell_type": "code",
   "execution_count": 124,
   "id": "6a9e3141-a115-45a2-a1b1-06e7c569790b",
   "metadata": {
    "tags": []
   },
   "outputs": [],
   "source": [
    "jobs_list = list()"
   ]
  },
  {
   "cell_type": "code",
   "execution_count": null,
   "id": "6997405a-c4a3-4571-ba81-0855a1db8f57",
   "metadata": {
    "tags": []
   },
   "outputs": [],
   "source": [
    "table = uzt.tree.css_first(\"#ctl00_MainArea_SearchResultsList_POGrid\")\n",
    "tr_list = table.css(\"tr:not(:nth-child(-n+2)):not(:last-child)\")\n",
    "for tr in tr_list:\n",
    "    date1, date2, title, company, place = [item.text().strip() for item in tr.css(\"td\")]\n",
    "    jobs_list.append(Job(date1=date1, date2=date2, title=title, company=company, place=place).dict())\n",
    "    \n",
    "print(len(jobs_list))\n",
    "print(json.dumps(jobs_list))\n"
   ]
  },
  {
   "cell_type": "code",
   "execution_count": null,
   "id": "25482e49-8da2-46c4-981c-e0ffa406eb82",
   "metadata": {
    "tags": []
   },
   "outputs": [],
   "source": [
    "# open page 2\n",
    "uzt.submit_asp_form(\"javascript:__doPostBack('ctl00$MainArea$SearchResultsList$POGrid$ctl29$PageBtn2','')\")"
   ]
  },
  {
   "cell_type": "code",
   "execution_count": null,
   "id": "808d985f-7f4a-468f-844e-9e68eb55ed86",
   "metadata": {
    "tags": []
   },
   "outputs": [],
   "source": [
    "# open job's card\n",
    "uzt.submit_asp_form(\"javascript:__doPostBack('ctl00$MainArea$SearchResultsList$POGrid$ctl03$PositionTitleButton','')\")"
   ]
  },
  {
   "cell_type": "code",
   "execution_count": null,
   "id": "f574d3c6-9b1b-4275-9ea4-3db83a3ba50d",
   "metadata": {
    "tags": []
   },
   "outputs": [],
   "source": [
    "uzt.text"
   ]
  },
  {
   "cell_type": "code",
   "execution_count": null,
   "id": "ced60cc8-6a57-488d-b702-e6450a765b88",
   "metadata": {
    "tags": []
   },
   "outputs": [],
   "source": [
    "uzt.asp_form_inputs\n"
   ]
  },
  {
   "cell_type": "code",
   "execution_count": null,
   "id": "7cd236d2-1534-4d23-aeb3-7c2afebc0937",
   "metadata": {
    "tags": []
   },
   "outputs": [],
   "source": [
    "import re\n",
    "def get_event_target(href:str)-> str:\n",
    "    pattern = re.compile(r\"\\('(.+)',''\\)\")\n",
    "    match = pattern.search(href)\n",
    "    result = match.group(1) if match else False\n",
    "    return result\n",
    "\n",
    "def get_categories_from_page(client):\n",
    "    li_list = client.tree.css(\"#ctl00_MainArea_UpdatePanel1 li a\")\n",
    "    raw_href_list= [a.attrs.get(\"href\") for a in li_list]\n",
    "    href_list = [get_event_target(href) for href in raw_href_list]\n",
    "    href_list"
   ]
  }
 ],
 "metadata": {
  "kernelspec": {
   "display_name": "Python 3 (ipykernel)",
   "language": "python",
   "name": "python3"
  },
  "language_info": {
   "codemirror_mode": {
    "name": "ipython",
    "version": 3
   },
   "file_extension": ".py",
   "mimetype": "text/x-python",
   "name": "python",
   "nbconvert_exporter": "python",
   "pygments_lexer": "ipython3",
   "version": "3.11.3"
  }
 },
 "nbformat": 4,
 "nbformat_minor": 5
}
