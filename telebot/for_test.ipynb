{
 "cells": [
  {
   "cell_type": "code",
   "execution_count": 39,
   "id": "8a1d1522-9890-4b55-9ac7-c872fe8a96e6",
   "metadata": {
    "tags": []
   },
   "outputs": [],
   "source": [
    "from IPython.display import display"
   ]
  },
  {
   "cell_type": "code",
   "execution_count": 22,
   "id": "c2a7ef55-3846-4f97-b689-60fe6fd5019b",
   "metadata": {
    "tags": []
   },
   "outputs": [],
   "source": [
    "from app.pyd_models.categories import Category\n",
    "import httpx\n",
    "import logging"
   ]
  },
  {
   "cell_type": "code",
   "execution_count": 23,
   "id": "94b4e229-2cab-4212-8401-e3a3e8b75142",
   "metadata": {
    "tags": []
   },
   "outputs": [],
   "source": [
    "dir(logging)\n",
    "logger = logging.getLogger(__name__)"
   ]
  },
  {
   "cell_type": "code",
   "execution_count": 24,
   "id": "ab7cfeee-fcb6-448e-b275-ccf54dd9bdd6",
   "metadata": {
    "tags": []
   },
   "outputs": [],
   "source": [
    "def get_categories_from_api():\n",
    "    url = \"http://localhost:8000/api/categories\"\n",
    "    headers = {\n",
    "        \"accept\": \"application/json\"\n",
    "    }\n",
    "    try:\n",
    "        response = httpx.get(url=url, headers=headers)\n",
    "        if response.status_code != 200:\n",
    "            return\n",
    "        return {item[\"id\"]: Category(**item) for item in response.json()}\n",
    "    except httpx.ConnectError:\n",
    "        logger.error(\"API connection error\")\n",
    "        \n",
    "    "
   ]
  },
  {
   "cell_type": "code",
   "execution_count": 43,
   "id": "f34958f4-0540-4b58-a164-7324f6c90e05",
   "metadata": {
    "tags": []
   },
   "outputs": [
    {
     "name": "stderr",
     "output_type": "stream",
     "text": [
      "API connection error\n"
     ]
    }
   ],
   "source": [
    "categories = get_categories_from_api()"
   ]
  },
  {
   "cell_type": "code",
   "execution_count": 37,
   "id": "8a08b1c1-be1c-4dc4-8c67-7f02bfbfc151",
   "metadata": {
    "tags": []
   },
   "outputs": [],
   "source": [
    "def get_name_list_of_categories(categories):\n",
    "    raw_list = [item.name for item in categories.values()]\n",
    "    return \"\\n\".join(raw_list)"
   ]
  },
  {
   "cell_type": "code",
   "execution_count": 42,
   "id": "46d2f358-fdfa-45ec-90fe-e2b36072a67f",
   "metadata": {
    "tags": []
   },
   "outputs": [
    {
     "name": "stdout",
     "output_type": "stream",
     "text": [
      "Žemės ūkis, miškininkystė, žuvininkystė\n",
      "Viešbučiai,maitinimas, turizmas\n",
      "Valdymas ir organizavimas\n",
      "Transportas, ryšiai\n",
      "Teisė, socialinė veikla\n",
      "Techninis darbas\n",
      "Švietimas, moksliniai tyrimai\n",
      "Sveikatos apsauga, farmacija\n",
      "Statyba\n",
      "Paslaugos\n",
      "Pardavimai, pirkimai, rinkodara\n",
      "Nekvalifikuoti darbai\n",
      "Kultūra, sportas, žiniasklaida, dizainas\n",
      "Kompiuterija / IT\n",
      "Įrengimai, techninė priežiūra\n",
      "Gamtamokslinis darbas\n",
      "Apsaugos darbas\n",
      "Amatininkai\n",
      "Administravimas, ekonomika\n"
     ]
    }
   ],
   "source": [
    "print(get_name_list_of_categories(categories))\n"
   ]
  },
  {
   "cell_type": "code",
   "execution_count": null,
   "id": "e13113d1-4133-42d1-bfe5-ae3c42e68529",
   "metadata": {},
   "outputs": [],
   "source": []
  }
 ],
 "metadata": {
  "kernelspec": {
   "display_name": "Python 3 (ipykernel)",
   "language": "python",
   "name": "python3"
  },
  "language_info": {
   "codemirror_mode": {
    "name": "ipython",
    "version": 3
   },
   "file_extension": ".py",
   "mimetype": "text/x-python",
   "name": "python",
   "nbconvert_exporter": "python",
   "pygments_lexer": "ipython3",
   "version": "3.11.3"
  }
 },
 "nbformat": 4,
 "nbformat_minor": 5
}
