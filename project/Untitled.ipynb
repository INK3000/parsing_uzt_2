{
 "cells": [
  {
   "cell_type": "code",
   "execution_count": 1,
   "id": "59a04b2f-8040-4672-8ac8-02ae83b6c9de",
   "metadata": {
    "tags": []
   },
   "outputs": [],
   "source": [
    "import re"
   ]
  },
  {
   "cell_type": "code",
   "execution_count": 1,
   "id": "052e47bd-e5de-4cfd-b836-caf0aa44fb63",
   "metadata": {
    "tags": []
   },
   "outputs": [],
   "source": [
    "from webscraper.scraper import Scraper"
   ]
  },
  {
   "cell_type": "code",
   "execution_count": 3,
   "id": "7cd236d2-1534-4d23-aeb3-7c2afebc0937",
   "metadata": {
    "tags": []
   },
   "outputs": [],
   "source": [
    "def get_event_target(href:str)-> str:\n",
    "    pattern = re.compile(r\"\\('(.+)',''\\)\")\n",
    "    match = pattern.search(href)\n",
    "    result = match.group(1) if match else False\n",
    "    return result\n",
    "    "
   ]
  },
  {
   "cell_type": "code",
   "execution_count": 2,
   "id": "21ed6949-9ea9-491b-b5f9-7af41db5e614",
   "metadata": {
    "tags": []
   },
   "outputs": [],
   "source": [
    "uzt = Scraper()\n",
    "#uzt.get(url=\"https://portal.uzt.lt/LDBPortal/Pages/ServicesForEmployees.aspx\")"
   ]
  },
  {
   "cell_type": "code",
   "execution_count": 3,
   "id": "d529911e-4cfa-45ef-b436-517860b2911b",
   "metadata": {
    "tags": []
   },
   "outputs": [
    {
     "data": {
      "text/plain": [
       "<LexborHTMLParser chars=101887>"
      ]
     },
     "execution_count": 3,
     "metadata": {},
     "output_type": "execute_result"
    }
   ],
   "source": [
    "uzt.tree"
   ]
  },
  {
   "cell_type": "code",
   "execution_count": 3,
   "id": "e836928d-b658-4fb4-b5b0-0ec1f9ab5843",
   "metadata": {
    "tags": []
   },
   "outputs": [
    {
     "ename": "PropertyError",
     "evalue": "Before use this property, need to call get(url) method",
     "output_type": "error",
     "traceback": [
      "\u001b[0;31m---------------------------------------------------------------------------\u001b[0m",
      "\u001b[0;31mPropertyError\u001b[0m                             Traceback (most recent call last)",
      "Cell \u001b[0;32mIn[3], line 1\u001b[0m\n\u001b[0;32m----> 1\u001b[0m \u001b[43muzt\u001b[49m\u001b[38;5;241;43m.\u001b[39;49m\u001b[43masp_form_inputs\u001b[49m\n",
      "File \u001b[0;32m/mnt/1TB/Coding/Parsing/Projects/parsing_uzt_2/project/webscraper/scraper.py:51\u001b[0m, in \u001b[0;36mScraper.asp_form_inputs\u001b[0;34m(self)\u001b[0m\n\u001b[1;32m     48\u001b[0m \u001b[38;5;129m@property\u001b[39m\n\u001b[1;32m     49\u001b[0m \u001b[38;5;28;01mdef\u001b[39;00m \u001b[38;5;21masp_form_inputs\u001b[39m(\u001b[38;5;28mself\u001b[39m):\n\u001b[1;32m     50\u001b[0m     \u001b[38;5;28;01mif\u001b[39;00m \u001b[38;5;129;01mnot\u001b[39;00m \u001b[38;5;28mself\u001b[39m\u001b[38;5;241m.\u001b[39m_asp_form_inputs:\n\u001b[0;32m---> 51\u001b[0m         input_nodes \u001b[38;5;241m=\u001b[39m \u001b[38;5;28;43mself\u001b[39;49m\u001b[38;5;241;43m.\u001b[39;49m\u001b[43mtree\u001b[49m\u001b[38;5;241m.\u001b[39mcss(\u001b[38;5;124m\"\u001b[39m\u001b[38;5;124m#aspnetForm input\u001b[39m\u001b[38;5;124m\"\u001b[39m)\n\u001b[1;32m     52\u001b[0m         \u001b[38;5;28;01mif\u001b[39;00m input_nodes:\n\u001b[1;32m     53\u001b[0m             \u001b[38;5;28mself\u001b[39m\u001b[38;5;241m.\u001b[39m_asp_form_inputs \u001b[38;5;241m=\u001b[39m {\n\u001b[1;32m     54\u001b[0m                 node\u001b[38;5;241m.\u001b[39mattrs\u001b[38;5;241m.\u001b[39mget(\u001b[38;5;124m\"\u001b[39m\u001b[38;5;124mname\u001b[39m\u001b[38;5;124m\"\u001b[39m): node\u001b[38;5;241m.\u001b[39mattrs\u001b[38;5;241m.\u001b[39mget(\u001b[38;5;124m\"\u001b[39m\u001b[38;5;124mvalue\u001b[39m\u001b[38;5;124m\"\u001b[39m)\n\u001b[1;32m     55\u001b[0m                 \u001b[38;5;28;01mfor\u001b[39;00m node \u001b[38;5;129;01min\u001b[39;00m input_nodes\n\u001b[1;32m     56\u001b[0m                 \u001b[38;5;28;01mif\u001b[39;00m node\u001b[38;5;241m.\u001b[39mattrs\u001b[38;5;241m.\u001b[39mget(\u001b[38;5;124m\"\u001b[39m\u001b[38;5;124mname\u001b[39m\u001b[38;5;124m\"\u001b[39m)\u001b[38;5;241m.\u001b[39mstartswith(\u001b[38;5;124m\"\u001b[39m\u001b[38;5;124m__\u001b[39m\u001b[38;5;124m\"\u001b[39m)\n\u001b[1;32m     57\u001b[0m             }\n",
      "File \u001b[0;32m/mnt/1TB/Coding/Parsing/Projects/parsing_uzt_2/project/webscraper/scraper.py:46\u001b[0m, in \u001b[0;36mScraper.tree\u001b[0;34m(self)\u001b[0m\n\u001b[1;32m     44\u001b[0m     \u001b[38;5;28;01mreturn\u001b[39;00m LexborHTMLParser(\u001b[38;5;28mself\u001b[39m\u001b[38;5;241m.\u001b[39mresponse\u001b[38;5;241m.\u001b[39mtext)\n\u001b[1;32m     45\u001b[0m \u001b[38;5;28;01melse\u001b[39;00m:\n\u001b[0;32m---> 46\u001b[0m     \u001b[38;5;28;01mraise\u001b[39;00m Scraper\u001b[38;5;241m.\u001b[39mPropertyError\n",
      "\u001b[0;31mPropertyError\u001b[0m: Before use this property, need to call get(url) method"
     ]
    }
   ],
   "source": [
    "uzt.asp_form_inputs"
   ]
  },
  {
   "cell_type": "code",
   "execution_count": 6,
   "id": "a6e2202c-6e68-4484-80c3-7b4ca9f811b5",
   "metadata": {
    "tags": []
   },
   "outputs": [],
   "source": [
    "li_list = uzt.tree.css(\"#ctl00_MainArea_UpdatePanel1 li a\")\n",
    "raw_href_list= [a.attrs.get(\"href\") for a in li_list]\n"
   ]
  },
  {
   "cell_type": "code",
   "execution_count": 108,
   "id": "64122d6a-23c9-43a4-8c9a-a6ead141e0ec",
   "metadata": {
    "tags": []
   },
   "outputs": [
    {
     "data": {
      "text/plain": [
       "['ctl00$MainArea$GroupedPOSearchTab$ProffessionGroups$ctl00$ProfGroup',\n",
       " 'ctl00$MainArea$GroupedPOSearchTab$ProffessionGroups$ctl01$ProfGroup',\n",
       " 'ctl00$MainArea$GroupedPOSearchTab$ProffessionGroups$ctl02$ProfGroup',\n",
       " 'ctl00$MainArea$GroupedPOSearchTab$ProffessionGroups$ctl03$ProfGroup',\n",
       " 'ctl00$MainArea$GroupedPOSearchTab$ProffessionGroups$ctl04$ProfGroup',\n",
       " 'ctl00$MainArea$GroupedPOSearchTab$ProffessionGroups$ctl05$ProfGroup',\n",
       " 'ctl00$MainArea$GroupedPOSearchTab$ProffessionGroups$ctl06$ProfGroup',\n",
       " 'ctl00$MainArea$GroupedPOSearchTab$ProffessionGroups$ctl07$ProfGroup',\n",
       " 'ctl00$MainArea$GroupedPOSearchTab$ProffessionGroups$ctl08$ProfGroup',\n",
       " 'ctl00$MainArea$GroupedPOSearchTab$ProffessionGroups$ctl09$ProfGroup',\n",
       " 'ctl00$MainArea$GroupedPOSearchTab$ProffessionGroups$ctl10$ProfGroup',\n",
       " 'ctl00$MainArea$GroupedPOSearchTab$ProffessionGroups$ctl11$ProfGroup',\n",
       " 'ctl00$MainArea$GroupedPOSearchTab$ProffessionGroups$ctl12$ProfGroup',\n",
       " 'ctl00$MainArea$GroupedPOSearchTab$ProffessionGroups$ctl13$ProfGroup',\n",
       " 'ctl00$MainArea$GroupedPOSearchTab$ProffessionGroups$ctl14$ProfGroup',\n",
       " 'ctl00$MainArea$GroupedPOSearchTab$ProffessionGroups$ctl15$ProfGroup',\n",
       " 'ctl00$MainArea$GroupedPOSearchTab$ProffessionGroups$ctl16$ProfGroup',\n",
       " 'ctl00$MainArea$GroupedPOSearchTab$ProffessionGroups$ctl17$ProfGroup',\n",
       " 'ctl00$MainArea$GroupedPOSearchTab$ProffessionGroups$ctl18$ProfGroup']"
      ]
     },
     "execution_count": 108,
     "metadata": {},
     "output_type": "execute_result"
    }
   ],
   "source": [
    "href_list"
   ]
  },
  {
   "cell_type": "code",
   "execution_count": null,
   "id": "92fb6a20-a873-4d07-9625-cb7aa70f9905",
   "metadata": {},
   "outputs": [],
   "source": []
  }
 ],
 "metadata": {
  "kernelspec": {
   "display_name": "Python 3 (ipykernel)",
   "language": "python",
   "name": "python3"
  },
  "language_info": {
   "codemirror_mode": {
    "name": "ipython",
    "version": 3
   },
   "file_extension": ".py",
   "mimetype": "text/x-python",
   "name": "python",
   "nbconvert_exporter": "python",
   "pygments_lexer": "ipython3",
   "version": "3.11.3"
  }
 },
 "nbformat": 4,
 "nbformat_minor": 5
}
