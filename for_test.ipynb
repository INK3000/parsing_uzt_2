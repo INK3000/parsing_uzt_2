{
 "cells": [
  {
   "cell_type": "code",
   "execution_count": 3,
   "id": "38b3b880-a46c-4dc9-a946-2b053554faf4",
   "metadata": {},
   "outputs": [],
   "source": [
    "from aiogram.utils.keyboard import InlineKeyboardBuilder \n",
    "from aiogram import types\n",
    "from datetime import datetime\n",
    "import json"
   ]
  },
  {
   "cell_type": "code",
   "execution_count": 4,
   "id": "d1065f48-fd60-49f1-8ff7-4eef268e1be8",
   "metadata": {},
   "outputs": [],
   "source": [
    "from telebot.app.settings import settings"
   ]
  },
  {
   "cell_type": "code",
   "execution_count": 5,
   "id": "c6e00ba1-e767-4294-93f0-219ebf5b97b5",
   "metadata": {},
   "outputs": [],
   "source": [
    "import httpx\n",
    "from urllib.parse import urljoin\n",
    "      "
   ]
  },
  {
   "cell_type": "code",
   "execution_count": 6,
   "id": "63fd5c79-0f9b-4283-8467-b0bc70ebaed3",
   "metadata": {},
   "outputs": [],
   "source": [
    "BASE_API_URL = \"http://localhost:8000\""
   ]
  },
  {
   "cell_type": "code",
   "execution_count": 7,
   "id": "3696bd9e-8235-45b6-8ac9-473195b554bf",
   "metadata": {},
   "outputs": [],
   "source": [
    "headers = {\"accept\": \"application/json\"}"
   ]
  },
  {
   "cell_type": "code",
   "execution_count": 9,
   "id": "04def167-7f6e-4137-8a48-5f05ba680380",
   "metadata": {},
   "outputs": [],
   "source": [
    "respc = httpx.get(url=urljoin(BASE_API_URL,\"/api/categories\"), headers=headers)"
   ]
  },
  {
   "cell_type": "code",
   "execution_count": 10,
   "id": "c213ff76-3811-4d11-9a06-631b97855d25",
   "metadata": {},
   "outputs": [],
   "source": [
    "cats = respc.json()"
   ]
  },
  {
   "cell_type": "code",
   "execution_count": 11,
   "id": "40a7d266-c148-45a5-a5cd-30f040c8c915",
   "metadata": {},
   "outputs": [
    {
     "data": {
      "text/plain": [
       "[{'id': 19,\n",
       "  'name': 'Žemės ūkis, miškininkystė, žuvininkystė',\n",
       "  'href': \"javascript:__doPostBack('ctl00$MainArea$GroupedPOSearchTab$ProffessionGroups$ctl18$ProfGroup','')\"},\n",
       " {'id': 18,\n",
       "  'name': 'Viešbučiai,maitinimas, turizmas',\n",
       "  'href': \"javascript:__doPostBack('ctl00$MainArea$GroupedPOSearchTab$ProffessionGroups$ctl17$ProfGroup','')\"},\n",
       " {'id': 17,\n",
       "  'name': 'Valdymas ir organizavimas',\n",
       "  'href': \"javascript:__doPostBack('ctl00$MainArea$GroupedPOSearchTab$ProffessionGroups$ctl16$ProfGroup','')\"},\n",
       " {'id': 16,\n",
       "  'name': 'Transportas, ryšiai',\n",
       "  'href': \"javascript:__doPostBack('ctl00$MainArea$GroupedPOSearchTab$ProffessionGroups$ctl15$ProfGroup','')\"},\n",
       " {'id': 15,\n",
       "  'name': 'Teisė, socialinė veikla',\n",
       "  'href': \"javascript:__doPostBack('ctl00$MainArea$GroupedPOSearchTab$ProffessionGroups$ctl14$ProfGroup','')\"},\n",
       " {'id': 14,\n",
       "  'name': 'Techninis darbas',\n",
       "  'href': \"javascript:__doPostBack('ctl00$MainArea$GroupedPOSearchTab$ProffessionGroups$ctl13$ProfGroup','')\"},\n",
       " {'id': 13,\n",
       "  'name': 'Švietimas, moksliniai tyrimai',\n",
       "  'href': \"javascript:__doPostBack('ctl00$MainArea$GroupedPOSearchTab$ProffessionGroups$ctl12$ProfGroup','')\"},\n",
       " {'id': 12,\n",
       "  'name': 'Sveikatos apsauga, farmacija',\n",
       "  'href': \"javascript:__doPostBack('ctl00$MainArea$GroupedPOSearchTab$ProffessionGroups$ctl11$ProfGroup','')\"},\n",
       " {'id': 11,\n",
       "  'name': 'Statyba',\n",
       "  'href': \"javascript:__doPostBack('ctl00$MainArea$GroupedPOSearchTab$ProffessionGroups$ctl10$ProfGroup','')\"},\n",
       " {'id': 10,\n",
       "  'name': 'Paslaugos',\n",
       "  'href': \"javascript:__doPostBack('ctl00$MainArea$GroupedPOSearchTab$ProffessionGroups$ctl09$ProfGroup','')\"},\n",
       " {'id': 9,\n",
       "  'name': 'Pardavimai, pirkimai, rinkodara',\n",
       "  'href': \"javascript:__doPostBack('ctl00$MainArea$GroupedPOSearchTab$ProffessionGroups$ctl08$ProfGroup','')\"},\n",
       " {'id': 8,\n",
       "  'name': 'Nekvalifikuoti darbai',\n",
       "  'href': \"javascript:__doPostBack('ctl00$MainArea$GroupedPOSearchTab$ProffessionGroups$ctl07$ProfGroup','')\"},\n",
       " {'id': 7,\n",
       "  'name': 'Kultūra, sportas, žiniasklaida, dizainas',\n",
       "  'href': \"javascript:__doPostBack('ctl00$MainArea$GroupedPOSearchTab$ProffessionGroups$ctl06$ProfGroup','')\"},\n",
       " {'id': 6,\n",
       "  'name': 'Kompiuterija / IT',\n",
       "  'href': \"javascript:__doPostBack('ctl00$MainArea$GroupedPOSearchTab$ProffessionGroups$ctl05$ProfGroup','')\"},\n",
       " {'id': 5,\n",
       "  'name': 'Įrengimai, techninė priežiūra',\n",
       "  'href': \"javascript:__doPostBack('ctl00$MainArea$GroupedPOSearchTab$ProffessionGroups$ctl04$ProfGroup','')\"},\n",
       " {'id': 4,\n",
       "  'name': 'Gamtamokslinis darbas',\n",
       "  'href': \"javascript:__doPostBack('ctl00$MainArea$GroupedPOSearchTab$ProffessionGroups$ctl03$ProfGroup','')\"},\n",
       " {'id': 3,\n",
       "  'name': 'Apsaugos darbas',\n",
       "  'href': \"javascript:__doPostBack('ctl00$MainArea$GroupedPOSearchTab$ProffessionGroups$ctl02$ProfGroup','')\"},\n",
       " {'id': 2,\n",
       "  'name': 'Amatininkai',\n",
       "  'href': \"javascript:__doPostBack('ctl00$MainArea$GroupedPOSearchTab$ProffessionGroups$ctl01$ProfGroup','')\"},\n",
       " {'id': 1,\n",
       "  'name': 'Administravimas, ekonomika',\n",
       "  'href': \"javascript:__doPostBack('ctl00$MainArea$GroupedPOSearchTab$ProffessionGroups$ctl00$ProfGroup','')\"}]"
      ]
     },
     "execution_count": 11,
     "metadata": {},
     "output_type": "execute_result"
    }
   ],
   "source": [
    "cats"
   ]
  },
  {
   "cell_type": "code",
   "execution_count": 66,
   "id": "8eb72e88-a983-4e1a-ab27-9d9313d937fe",
   "metadata": {},
   "outputs": [],
   "source": [
    "respu = httpx.get(url=urljoin(BASE_API_URL,\"/api/subscriber/1223\"))"
   ]
  },
  {
   "cell_type": "code",
   "execution_count": 64,
   "id": "bb826350-3cf9-45bc-956b-0d421d27a9ea",
   "metadata": {},
   "outputs": [],
   "source": [
    "user = respu.json()"
   ]
  },
  {
   "cell_type": "code",
   "execution_count": 65,
   "id": "c1ebd9b0-b261-4ee5-b65f-0c4f287781af",
   "metadata": {},
   "outputs": [
    {
     "data": {
      "text/plain": [
       "[]"
      ]
     },
     "execution_count": 65,
     "metadata": {},
     "output_type": "execute_result"
    }
   ],
   "source": [
    "user['subscriptions']"
   ]
  },
  {
   "cell_type": "code",
   "execution_count": 35,
   "id": "810029b0-4b7d-4aa1-b388-5ace283c7fc4",
   "metadata": {},
   "outputs": [],
   "source": [
    "def add_to_subs(user, category_id):\n",
    "    user['subscriptions'].append(\n",
    "        {\n",
    "            'category_id': category_id, 'date_last_sent': str(datetime.utcnow())\n",
    "        }\n",
    "    )\n",
    "    return user"
   ]
  },
  {
   "cell_type": "code",
   "execution_count": 49,
   "id": "b030afe3-21b1-4112-9760-e5bcdb227257",
   "metadata": {},
   "outputs": [],
   "source": [
    "def remove_from_subs(user, category_id):\n",
    "    subscriptions = filter(lambda item: item['category_id'] != category_id, user['subscriptions'])\n",
    "    user['subscriptions'] = list(subscriptions)\n",
    "    return user"
   ]
  },
  {
   "cell_type": "code",
   "execution_count": 37,
   "id": "00e86ff3-77ee-4521-b1f3-5e1ffaabeeb3",
   "metadata": {},
   "outputs": [],
   "source": [
    "def get_categories_list_for_kb(user, categories):\n",
    "    added_list = [item['category_id'] for item in user['subscriptions']]\n",
    "    categories_list = [item for item in categories if item['id'] not in added_list]\n",
    "    return categories_list\n",
    "    \n",
    "    "
   ]
  },
  {
   "cell_type": "code",
   "execution_count": 38,
   "id": "f42dcd89-6ef0-4f54-a95e-2e54869b4925",
   "metadata": {},
   "outputs": [],
   "source": [
    "def get_to_subs_kbd(categories_list):\n",
    "    builder = InlineKeyboardBuilder()\n",
    "    [builder.add(types.InlineKeyboardButton(text=item['name'], callback_data=item['category_id'])) for item in categories_list]\n",
    "    builder.add(types.InlineKeyboardButton(text=\"Complete\", callback_data=\"Complete\"))\n",
    "    \n",
    "    return builder.as_markup()"
   ]
  },
  {
   "cell_type": "code",
   "execution_count": 39,
   "id": "b701ecf1-51cf-43bd-8778-843aebd5a373",
   "metadata": {},
   "outputs": [
    {
     "name": "stdout",
     "output_type": "stream",
     "text": [
      "inline_keyboard=[[InlineKeyboardButton(text='cat_name', url=None, callback_data='1', web_app=None, login_url=None, switch_inline_query=None, switch_inline_query_current_chat=None, callback_game=None, pay=None), InlineKeyboardButton(text='Complete', url=None, callback_data='Complete', web_app=None, login_url=None, switch_inline_query=None, switch_inline_query_current_chat=None, callback_game=None, pay=None)]]\n"
     ]
    }
   ],
   "source": [
    "print(get_to_subs_kbd([{\"name\": \"cat_name\", \"category_id\": 1}]))"
   ]
  },
  {
   "cell_type": "code",
   "execution_count": 40,
   "id": "dad0085f-3e5b-4b1c-9603-d57eec13c1c2",
   "metadata": {},
   "outputs": [
    {
     "name": "stdout",
     "output_type": "stream",
     "text": [
      "[{'id': 4, 'name': 'Gamtamokslinis darbas', 'href': \"javascript:__doPostBack('ctl00$MainArea$GroupedPOSearchTab$ProffessionGroups$ctl03$ProfGroup','')\"}, {'id': 3, 'name': 'Apsaugos darbas', 'href': \"javascript:__doPostBack('ctl00$MainArea$GroupedPOSearchTab$ProffessionGroups$ctl02$ProfGroup','')\"}, {'id': 1, 'name': 'Administravimas, ekonomika', 'href': \"javascript:__doPostBack('ctl00$MainArea$GroupedPOSearchTab$ProffessionGroups$ctl00$ProfGroup','')\"}]\n"
     ]
    }
   ],
   "source": [
    "print(get_categories_list_for_kb(user, cats))"
   ]
  },
  {
   "cell_type": "code",
   "execution_count": 58,
   "id": "3429f2ef-f83b-4e30-a89f-e11d9741ae41",
   "metadata": {},
   "outputs": [],
   "source": [
    "user = add_to_subs(user, 3)"
   ]
  },
  {
   "cell_type": "code",
   "execution_count": 61,
   "id": "81bbe0e1-ea14-47a3-9ef6-6e417533b376",
   "metadata": {},
   "outputs": [
    {
     "data": {
      "text/plain": [
       "{'id': 1,\n",
       " 'telegram_id': 1223,\n",
       " 'date_created': '2023-05-14',\n",
       " 'subscriptions': [{'category_id': 1,\n",
       "   'date_last_sent': '2023-05-14T19:05:49.486Z'},\n",
       "  {'category_id': 4, 'date_last_sent': '2023-05-14T19:05:49.486Z'},\n",
       "  {'category_id': 5, 'date_last_sent': '2023-05-14T19:05:49.486Z'},\n",
       "  {'category_id': 6, 'date_last_sent': '2023-05-19 08:11:09.524247'},\n",
       "  {'category_id': 6, 'date_last_sent': '2023-05-19 08:11:12.625448'}]}"
      ]
     },
     "execution_count": 61,
     "metadata": {},
     "output_type": "execute_result"
    }
   ],
   "source": [
    "user"
   ]
  },
  {
   "cell_type": "code",
   "execution_count": 60,
   "id": "65640c98-5698-46c4-9b13-cf0635e7ca27",
   "metadata": {},
   "outputs": [],
   "source": [
    "user = remove_from_subs(user, 3)"
   ]
  },
  {
   "cell_type": "code",
   "execution_count": 62,
   "id": "01308f9a-8c01-4a20-864f-372587ced585",
   "metadata": {},
   "outputs": [
    {
     "data": {
      "text/plain": [
       "'{\"id\": 1, \"telegram_id\": 1223, \"date_created\": \"2023-05-14\", \"subscriptions\": [{\"category_id\": 1, \"date_last_sent\": \"2023-05-14T19:05:49.486Z\"}, {\"category_id\": 4, \"date_last_sent\": \"2023-05-14T19:05:49.486Z\"}, {\"category_id\": 5, \"date_last_sent\": \"2023-05-14T19:05:49.486Z\"}, {\"category_id\": 6, \"date_last_sent\": \"2023-05-19 08:11:09.524247\"}, {\"category_id\": 6, \"date_last_sent\": \"2023-05-19 08:11:12.625448\"}]}'"
      ]
     },
     "execution_count": 62,
     "metadata": {},
     "output_type": "execute_result"
    }
   ],
   "source": [
    "json.dumps(user)"
   ]
  },
  {
   "cell_type": "code",
   "execution_count": 68,
   "id": "55801a5b-2cd8-4c42-875d-516ba9ba0cf2",
   "metadata": {},
   "outputs": [
    {
     "data": {
      "text/plain": [
       "True"
      ]
     },
     "execution_count": 68,
     "metadata": {},
     "output_type": "execute_result"
    }
   ],
   "source": [
    "l = [1,2,3]\n",
    "4 not in l"
   ]
  },
  {
   "cell_type": "code",
   "execution_count": null,
   "id": "9c0fe73b-697c-4967-8f03-c36d28e8abf2",
   "metadata": {},
   "outputs": [],
   "source": []
  }
 ],
 "metadata": {
  "kernelspec": {
   "display_name": "Python 3 (ipykernel)",
   "language": "python",
   "name": "python3"
  },
  "language_info": {
   "codemirror_mode": {
    "name": "ipython",
    "version": 3
   },
   "file_extension": ".py",
   "mimetype": "text/x-python",
   "name": "python",
   "nbconvert_exporter": "python",
   "pygments_lexer": "ipython3",
   "version": "3.11.3"
  }
 },
 "nbformat": 4,
 "nbformat_minor": 5
}
