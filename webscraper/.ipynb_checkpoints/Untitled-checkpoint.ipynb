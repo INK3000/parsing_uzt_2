{
 "cells": [
  {
   "cell_type": "code",
   "execution_count": 1,
   "id": "052e47bd-e5de-4cfd-b836-caf0aa44fb63",
   "metadata": {
    "tags": []
   },
   "outputs": [
    {
     "ename": "ModuleNotFoundError",
     "evalue": "No module named 'settings'",
     "output_type": "error",
     "traceback": [
      "\u001b[0;31m---------------------------------------------------------------------------\u001b[0m",
      "\u001b[0;31mModuleNotFoundError\u001b[0m                       Traceback (most recent call last)",
      "Cell \u001b[0;32mIn[1], line 1\u001b[0m\n\u001b[0;32m----> 1\u001b[0m \u001b[38;5;28;01mfrom\u001b[39;00m \u001b[38;5;21;01mwebscraper\u001b[39;00m\u001b[38;5;21;01m.\u001b[39;00m\u001b[38;5;21;01muzt_client\u001b[39;00m \u001b[38;5;28;01mimport\u001b[39;00m UZTClient\n",
      "File \u001b[0;32m/mnt/1TB/Coding/Parsing/Projects/parsing_uzt_2/project/webscraper/uzt_client.py:17\u001b[0m\n\u001b[1;32m     14\u001b[0m \u001b[38;5;28;01mfrom\u001b[39;00m \u001b[38;5;21;01murllib\u001b[39;00m\u001b[38;5;21;01m.\u001b[39;00m\u001b[38;5;21;01mparse\u001b[39;00m \u001b[38;5;28;01mimport\u001b[39;00m unquote \u001b[38;5;28;01mas\u001b[39;00m url_unquote\n\u001b[1;32m     16\u001b[0m \u001b[38;5;28;01mimport\u001b[39;00m \u001b[38;5;21;01mhttpx\u001b[39;00m\n\u001b[0;32m---> 17\u001b[0m \u001b[38;5;28;01mimport\u001b[39;00m \u001b[38;5;21;01msettings\u001b[39;00m\n\u001b[1;32m     18\u001b[0m \u001b[38;5;28;01mfrom\u001b[39;00m \u001b[38;5;21;01mselectolax\u001b[39;00m\u001b[38;5;21;01m.\u001b[39;00m\u001b[38;5;21;01mlexbor\u001b[39;00m \u001b[38;5;28;01mimport\u001b[39;00m LexborHTMLParser\n\u001b[1;32m     21\u001b[0m \u001b[38;5;28;01mclass\u001b[39;00m \u001b[38;5;21;01mUZTClient\u001b[39;00m(httpx\u001b[38;5;241m.\u001b[39mClient):\n",
      "\u001b[0;31mModuleNotFoundError\u001b[0m: No module named 'settings'"
     ]
    }
   ],
   "source": [
    "from webscraper.uzt_client import UZTClient"
   ]
  },
  {
   "cell_type": "code",
   "execution_count": null,
   "id": "7e8f0dd5-368e-423a-a400-fcc751a9b3bf",
   "metadata": {
    "tags": []
   },
   "outputs": [],
   "source": [
    "from webscraper import main"
   ]
  },
  {
   "cell_type": "code",
   "execution_count": null,
   "id": "f61ce306-84fc-487c-9c39-1fe34d2619c4",
   "metadata": {
    "tags": []
   },
   "outputs": [],
   "source": [
    "resp = main.get_categories_from_api()"
   ]
  },
  {
   "cell_type": "code",
   "execution_count": 15,
   "id": "5d4ce654-c374-4848-b8b8-5391db752900",
   "metadata": {
    "tags": []
   },
   "outputs": [
    {
     "data": {
      "text/plain": [
       "[CategoryIn(id=44, name='Žemės ūkis, miškininkystė, žuvininkystė', href=\"javascript:__doPostBack('ctl00$MainArea$GroupedPOSearchTab$ProffessionGroups$ctl18$ProfGroup','')\", last_id=None),\n",
       " CategoryIn(id=43, name='Viešbučiai,maitinimas, turizmas', href=\"javascript:__doPostBack('ctl00$MainArea$GroupedPOSearchTab$ProffessionGroups$ctl17$ProfGroup','')\", last_id=None),\n",
       " CategoryIn(id=42, name='Valdymas ir organizavimas', href=\"javascript:__doPostBack('ctl00$MainArea$GroupedPOSearchTab$ProffessionGroups$ctl16$ProfGroup','')\", last_id=None),\n",
       " CategoryIn(id=41, name='Transportas, ryšiai', href=\"javascript:__doPostBack('ctl00$MainArea$GroupedPOSearchTab$ProffessionGroups$ctl15$ProfGroup','')\", last_id=None),\n",
       " CategoryIn(id=40, name='Teisė, socialinė veikla', href=\"javascript:__doPostBack('ctl00$MainArea$GroupedPOSearchTab$ProffessionGroups$ctl14$ProfGroup','')\", last_id=None),\n",
       " CategoryIn(id=39, name='Techninis darbas', href=\"javascript:__doPostBack('ctl00$MainArea$GroupedPOSearchTab$ProffessionGroups$ctl13$ProfGroup','')\", last_id=None),\n",
       " CategoryIn(id=38, name='Švietimas, moksliniai tyrimai', href=\"javascript:__doPostBack('ctl00$MainArea$GroupedPOSearchTab$ProffessionGroups$ctl12$ProfGroup','')\", last_id=None),\n",
       " CategoryIn(id=37, name='Sveikatos apsauga, farmacija', href=\"javascript:__doPostBack('ctl00$MainArea$GroupedPOSearchTab$ProffessionGroups$ctl11$ProfGroup','')\", last_id=None),\n",
       " CategoryIn(id=36, name='Statyba', href=\"javascript:__doPostBack('ctl00$MainArea$GroupedPOSearchTab$ProffessionGroups$ctl10$ProfGroup','')\", last_id=None),\n",
       " CategoryIn(id=35, name='Paslaugos', href=\"javascript:__doPostBack('ctl00$MainArea$GroupedPOSearchTab$ProffessionGroups$ctl09$ProfGroup','')\", last_id=None),\n",
       " CategoryIn(id=34, name='Pardavimai, pirkimai, rinkodara', href=\"javascript:__doPostBack('ctl00$MainArea$GroupedPOSearchTab$ProffessionGroups$ctl08$ProfGroup','')\", last_id=None),\n",
       " CategoryIn(id=33, name='Nekvalifikuoti darbai', href=\"javascript:__doPostBack('ctl00$MainArea$GroupedPOSearchTab$ProffessionGroups$ctl07$ProfGroup','')\", last_id=None),\n",
       " CategoryIn(id=32, name='Kultūra, sportas, žiniasklaida, dizainas', href=\"javascript:__doPostBack('ctl00$MainArea$GroupedPOSearchTab$ProffessionGroups$ctl06$ProfGroup','')\", last_id=None),\n",
       " CategoryIn(id=31, name='Kompiuterija / IT', href=\"javascript:__doPostBack('ctl00$MainArea$GroupedPOSearchTab$ProffessionGroups$ctl05$ProfGroup','')\", last_id=None),\n",
       " CategoryIn(id=30, name='Įrengimai, techninė priežiūra', href=\"javascript:__doPostBack('ctl00$MainArea$GroupedPOSearchTab$ProffessionGroups$ctl04$ProfGroup','')\", last_id=None),\n",
       " CategoryIn(id=29, name='Gamtamokslinis darbas', href=\"javascript:__doPostBack('ctl00$MainArea$GroupedPOSearchTab$ProffessionGroups$ctl03$ProfGroup','')\", last_id=None),\n",
       " CategoryIn(id=28, name='Apsaugos darbas', href=\"javascript:__doPostBack('ctl00$MainArea$GroupedPOSearchTab$ProffessionGroups$ctl02$ProfGroup','')\", last_id=None),\n",
       " CategoryIn(id=27, name='Amatininkai', href=\"javascript:__doPostBack('ctl00$MainArea$GroupedPOSearchTab$ProffessionGroups$ctl01$ProfGroup','')\", last_id=None),\n",
       " CategoryIn(id=26, name='Administravimas, ekonomika', href=\"javascript:__doPostBack('ctl00$MainArea$GroupedPOSearchTab$ProffessionGroups$ctl00$ProfGroup','')\", last_id=None)]"
      ]
     },
     "execution_count": 15,
     "metadata": {},
     "output_type": "execute_result"
    }
   ],
   "source": [
    "resp.data"
   ]
  },
  {
   "cell_type": "code",
   "execution_count": 5,
   "id": "ac68febe-e702-4876-87dc-de02d8f4fde8",
   "metadata": {
    "tags": []
   },
   "outputs": [],
   "source": [
    "import re\n",
    "from pydantic import BaseModel\n",
    "import json"
   ]
  },
  {
   "cell_type": "code",
   "execution_count": 6,
   "id": "5a3ad960-f79d-4851-b35a-936d3d0753ed",
   "metadata": {
    "tags": []
   },
   "outputs": [],
   "source": [
    "class Job(BaseModel):\n",
    "    date1: str\n",
    "    date2: str\n",
    "    title: str\n",
    "    company: str\n",
    "    place: str\n"
   ]
  },
  {
   "cell_type": "code",
   "execution_count": 7,
   "id": "39baaf0a-a9d7-4497-b5bf-3244270f0032",
   "metadata": {},
   "outputs": [],
   "source": [
    "class Category(BaseModel):\n",
    "    name: str\n",
    "    href: str"
   ]
  },
  {
   "cell_type": "code",
   "execution_count": 8,
   "id": "d2d288b8-dbc6-47d3-931f-b926c7602329",
   "metadata": {
    "tags": []
   },
   "outputs": [],
   "source": [
    "#getting categories list\n",
    "def get_categories_from_page(client):\n",
    "    categories = list()\n",
    "    a_list = client.tree.css(\"#ctl00_MainArea_UpdatePanel1 li a\")\n",
    "    for a in a_list:\n",
    "        category = Category(\n",
    "            name = a.text(),\n",
    "            href = a.attrs.get('href')\n",
    "        )\n",
    "        categories.append(category)\n",
    "    \n",
    "    return categories\n",
    "    "
   ]
  },
  {
   "cell_type": "code",
   "execution_count": 9,
   "id": "edc8b941-82bb-4282-ae4e-2ea2dc2e92fd",
   "metadata": {
    "tags": []
   },
   "outputs": [],
   "source": [
    "#getting href to next page\n",
    "def get_next_page_href(client):\n",
    "    a = client.tree.css_first(\"table.Pager td:last-child a\")\n",
    "    if not a:\n",
    "        return False\n",
    "    return a.attrs.get(\"href\")\n"
   ]
  },
  {
   "cell_type": "code",
   "execution_count": 10,
   "id": "21ed6949-9ea9-491b-b5f9-7af41db5e614",
   "metadata": {
    "tags": []
   },
   "outputs": [
    {
     "data": {
      "text/plain": [
       "<Response [200 OK]>"
      ]
     },
     "execution_count": 10,
     "metadata": {},
     "output_type": "execute_result"
    }
   ],
   "source": [
    "uzt = UZTClient()\n",
    "uzt.get(url=\"https://portal.uzt.lt/LDBPortal/Pages/ServicesForEmployees.aspx\")"
   ]
  },
  {
   "cell_type": "code",
   "execution_count": 11,
   "id": "fc46803e-0cdd-45ab-8fcc-e64b84077f41",
   "metadata": {
    "tags": []
   },
   "outputs": [],
   "source": [
    "cats = main.get_categories_from_page(uzt)"
   ]
  },
  {
   "cell_type": "code",
   "execution_count": null,
   "id": "9c28ca08-3029-440f-a769-8a2c747b2cea",
   "metadata": {
    "tags": []
   },
   "outputs": [],
   "source": [
    "cats"
   ]
  },
  {
   "cell_type": "code",
   "execution_count": 16,
   "id": "c1567da1-6513-4988-a28c-1d4c104d31a4",
   "metadata": {
    "tags": []
   },
   "outputs": [],
   "source": [
    "create_resp = main.send_data_to_api(cats.data,\"/api/categories/create\")"
   ]
  },
  {
   "cell_type": "code",
   "execution_count": 17,
   "id": "e4f2a591-4ece-49ac-a1b4-7f9be5cd757d",
   "metadata": {
    "tags": []
   },
   "outputs": [
    {
     "data": {
      "text/plain": [
       "'{\"detail\": \"UNIQUE constraint failed: api_category.href\"}'"
      ]
     },
     "execution_count": 17,
     "metadata": {},
     "output_type": "execute_result"
    }
   ],
   "source": [
    "create_resp.data.text"
   ]
  },
  {
   "cell_type": "code",
   "execution_count": null,
   "id": "69637edd-fadb-46e3-a5d1-c15db85e8c15",
   "metadata": {
    "tags": []
   },
   "outputs": [],
   "source": [
    "json.dumps(cats.data)"
   ]
  },
  {
   "cell_type": "code",
   "execution_count": null,
   "id": "f4627910-48bf-4707-84d9-60fe7782b7d1",
   "metadata": {
    "tags": []
   },
   "outputs": [],
   "source": [
    "#open category\n",
    "uzt.submit_asp_form(cats[0].href)\n",
    "uzt.get(url=uzt.next_url)"
   ]
  },
  {
   "cell_type": "code",
   "execution_count": null,
   "id": "9bb28dbb-a9a8-41ab-ae8f-89818317ddc0",
   "metadata": {
    "tags": []
   },
   "outputs": [],
   "source": [
    "uzt.next_url"
   ]
  },
  {
   "cell_type": "code",
   "execution_count": null,
   "id": "671958b5-67c4-4044-9cd5-653bd51c5dce",
   "metadata": {
    "tags": []
   },
   "outputs": [],
   "source": [
    "uzt.save_to_html(\"save00_card.html\")"
   ]
  },
  {
   "cell_type": "code",
   "execution_count": null,
   "id": "d6112978-3afd-4240-8234-87abe2919e3e",
   "metadata": {
    "tags": []
   },
   "outputs": [],
   "source": [
    "next_page_href = get_next_page_href(uzt)\n",
    "\n",
    "print(next_page_href)\n"
   ]
  },
  {
   "cell_type": "code",
   "execution_count": null,
   "id": "dd2d41a6-46c2-4ae1-b326-0b4e948ef7fc",
   "metadata": {
    "tags": []
   },
   "outputs": [],
   "source": [
    "uzt.response.text"
   ]
  },
  {
   "cell_type": "code",
   "execution_count": null,
   "id": "63eab598-3f61-4532-9892-330ce82abc46",
   "metadata": {
    "tags": []
   },
   "outputs": [],
   "source": [
    "#next page\n",
    "uzt.submit_asp_form(next_page_href)\n",
    "uzt.save_to_html(\"save00_card.html\")"
   ]
  },
  {
   "cell_type": "code",
   "execution_count": null,
   "id": "25482e49-8da2-46c4-981c-e0ffa406eb82",
   "metadata": {
    "tags": []
   },
   "outputs": [],
   "source": [
    "# open page 2\n",
    "uzt.submit_asp_form(\"javascript:__doPostBack('ctl00$MainArea$SearchResultsList$POGrid$ctl29$PageBtn10','')\")\n",
    "uzt.save_to_html(\"save00_card.html\")"
   ]
  },
  {
   "cell_type": "code",
   "execution_count": null,
   "id": "f235b880-7d91-4c8c-814e-baa29c3cac2b",
   "metadata": {
    "tags": []
   },
   "outputs": [],
   "source": [
    "need_to_get = (\"__VIEWSTATE\", \"__VIEWSTATEGENERATOR\", \"__EVENTVALIDATION\")\n",
    "asp_inputs = uzt.asp_form_inputs\n",
    "asp_inputs"
   ]
  },
  {
   "cell_type": "code",
   "execution_count": null,
   "id": "cd8b3ed5-2e1f-4d34-a6b4-13e1c9bb4b0c",
   "metadata": {
    "tags": []
   },
   "outputs": [],
   "source": [
    "uzt.get(url=uzt.next_url)"
   ]
  },
  {
   "cell_type": "raw",
   "id": "26f6e9f2-603e-498e-bf26-c2dde116adaa",
   "metadata": {},
   "source": [
    "#ToDo  is_next_page!!!\n",
    "==================================="
   ]
  },
  {
   "cell_type": "code",
   "execution_count": null,
   "id": "6a9e3141-a115-45a2-a1b1-06e7c569790b",
   "metadata": {
    "tags": []
   },
   "outputs": [],
   "source": [
    "jobs_list = list()"
   ]
  },
  {
   "cell_type": "code",
   "execution_count": null,
   "id": "6997405a-c4a3-4571-ba81-0855a1db8f57",
   "metadata": {
    "tags": []
   },
   "outputs": [],
   "source": [
    "# поиск строк и ячеек\n",
    "table = uzt.tree.css_first(\"#ctl00_MainArea_SearchResultsList_POGrid\")\n",
    "tr_list = table.css(\"tr:not(:nth-child(-n+2)):not(:last-child)\")\n",
    "for tr in tr_list:\n",
    "    date1, date2, title, company, place = [item.text().strip() for item in tr.css(\"td\")]\n",
    "    jobs_list.append(Job(date1=date1, date2=date2, title=title, company=company, place=place).dict())\n",
    "    \n",
    "print(len(jobs_list))\n",
    "print(json.dumps(jobs_list))\n"
   ]
  },
  {
   "cell_type": "code",
   "execution_count": null,
   "id": "808d985f-7f4a-468f-844e-9e68eb55ed86",
   "metadata": {
    "tags": []
   },
   "outputs": [],
   "source": [
    "# open job's card\n",
    "uzt.submit_asp_form(\"javascript:__doPostBack('ctl00$MainArea$SearchResultsList$POGrid$ctl03$PositionTitleButton','')\")"
   ]
  },
  {
   "cell_type": "code",
   "execution_count": null,
   "id": "f574d3c6-9b1b-4275-9ea4-3db83a3ba50d",
   "metadata": {
    "tags": []
   },
   "outputs": [],
   "source": [
    "uzt.text"
   ]
  },
  {
   "cell_type": "code",
   "execution_count": null,
   "id": "ced60cc8-6a57-488d-b702-e6450a765b88",
   "metadata": {
    "tags": []
   },
   "outputs": [],
   "source": [
    "uzt.asp_form_inputs\n"
   ]
  }
 ],
 "metadata": {
  "kernelspec": {
   "display_name": "Python 3 (ipykernel)",
   "language": "python",
   "name": "python3"
  },
  "language_info": {
   "codemirror_mode": {
    "name": "ipython",
    "version": 3
   },
   "file_extension": ".py",
   "mimetype": "text/x-python",
   "name": "python",
   "nbconvert_exporter": "python",
   "pygments_lexer": "ipython3",
   "version": "3.11.3"
  }
 },
 "nbformat": 4,
 "nbformat_minor": 5
}
