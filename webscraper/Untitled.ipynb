{
 "cells": [
  {
   "cell_type": "code",
   "execution_count": null,
   "id": "ac68febe-e702-4876-87dc-de02d8f4fde8",
   "metadata": {
    "tags": []
   },
   "outputs": [],
   "source": [
    "import re\n",
    "import json"
   ]
  },
  {
   "cell_type": "code",
   "execution_count": null,
   "id": "052e47bd-e5de-4cfd-b836-caf0aa44fb63",
   "metadata": {
    "tags": []
   },
   "outputs": [],
   "source": [
    "from app.uzt_client import UZTClient\n",
    "from app import pydantic_models as pd\n",
    "import main"
   ]
  },
  {
   "cell_type": "code",
   "execution_count": null,
   "id": "d2d288b8-dbc6-47d3-931f-b926c7602329",
   "metadata": {
    "tags": []
   },
   "outputs": [],
   "source": [
    "#getting categories list\n",
    "def get_categories_from_page(client):\n",
    "    categories = list()\n",
    "    a_list = client.tree.css(\"#ctl00_MainArea_UpdatePanel1 li a\")\n",
    "    for a in a_list:\n",
    "        category = pd.Category(\n",
    "            name = a.text(),\n",
    "            href = a.attrs.get('href')\n",
    "        )\n",
    "        categories.append(category)\n",
    "    \n",
    "    return categories\n",
    "    "
   ]
  },
  {
   "cell_type": "code",
   "execution_count": null,
   "id": "edc8b941-82bb-4282-ae4e-2ea2dc2e92fd",
   "metadata": {
    "tags": []
   },
   "outputs": [],
   "source": [
    "#getting href to next page\n",
    "def get_next_page_href(client):\n",
    "    a = client.tree.css_first(\"table.Pager td:last-child a\")\n",
    "    if not a:\n",
    "        return False\n",
    "    return a.attrs.get(\"href\")\n"
   ]
  },
  {
   "cell_type": "code",
   "execution_count": null,
   "id": "21ed6949-9ea9-491b-b5f9-7af41db5e614",
   "metadata": {
    "tags": []
   },
   "outputs": [],
   "source": [
    "uzt = UZTClient()\n",
    "uzt.get(url=\"https://portal.uzt.lt/LDBPortal/Pages/ServicesForEmployees.aspx\")"
   ]
  },
  {
   "cell_type": "code",
   "execution_count": null,
   "id": "fc46803e-0cdd-45ab-8fcc-e64b84077f41",
   "metadata": {
    "tags": []
   },
   "outputs": [],
   "source": [
    "cats = main.get_categories()"
   ]
  },
  {
   "cell_type": "code",
   "execution_count": null,
   "id": "9c28ca08-3029-440f-a769-8a2c747b2cea",
   "metadata": {
    "tags": []
   },
   "outputs": [],
   "source": [
    "cats"
   ]
  },
  {
   "cell_type": "code",
   "execution_count": null,
   "id": "c1567da1-6513-4988-a28c-1d4c104d31a4",
   "metadata": {
    "tags": []
   },
   "outputs": [],
   "source": [
    "create_resp = main.send_data_to_api(endpoint=\"/api/categories/create\", data=cats.data)"
   ]
  },
  {
   "cell_type": "code",
   "execution_count": null,
   "id": "e4f2a591-4ece-49ac-a1b4-7f9be5cd757d",
   "metadata": {
    "tags": []
   },
   "outputs": [],
   "source": [
    "uzt.redirect_response.text"
   ]
  },
  {
   "cell_type": "code",
   "execution_count": null,
   "id": "174f1dd5-61b3-45fc-95e4-6144b7624a79",
   "metadata": {
    "tags": []
   },
   "outputs": [],
   "source": [
    "uzt.response.text"
   ]
  },
  {
   "cell_type": "code",
   "execution_count": null,
   "id": "3a743a37-eec9-400f-9cad-02355d131171",
   "metadata": {},
   "outputs": [],
   "source": []
  },
  {
   "cell_type": "code",
   "execution_count": 24,
   "id": "5990c5ac-c15c-40a0-a402-cfb44d71c7dc",
   "metadata": {},
   "outputs": [
    {
     "data": {
      "text/plain": [
       "'#SPContainer'"
      ]
     },
     "execution_count": 24,
     "metadata": {},
     "output_type": "execute_result"
    }
   ],
   "source": [
    "a = uzt.tree.css_first(\"a\")\n",
    "a.attrs.get('href')"
   ]
  },
  {
   "cell_type": "code",
   "execution_count": null,
   "id": "69637edd-fadb-46e3-a5d1-c15db85e8c15",
   "metadata": {
    "tags": []
   },
   "outputs": [],
   "source": [
    "json.dumps(cats.data)"
   ]
  },
  {
   "cell_type": "code",
   "execution_count": null,
   "id": "f4627910-48bf-4707-84d9-60fe7782b7d1",
   "metadata": {
    "tags": []
   },
   "outputs": [],
   "source": [
    "#open category\n",
    "uzt.submit_asp_form(cats[0].href)\n",
    "uzt.get(url=uzt.next_url)"
   ]
  },
  {
   "cell_type": "code",
   "execution_count": null,
   "id": "671958b5-67c4-4044-9cd5-653bd51c5dce",
   "metadata": {
    "tags": []
   },
   "outputs": [],
   "source": [
    "uzt.save_to_html(\"save00_card.html\")"
   ]
  },
  {
   "cell_type": "code",
   "execution_count": null,
   "id": "d6112978-3afd-4240-8234-87abe2919e3e",
   "metadata": {
    "tags": []
   },
   "outputs": [],
   "source": [
    "next_page_href = main.get_next_page_href(uzt)\n",
    "print(next_page_href)"
   ]
  },
  {
   "cell_type": "code",
   "execution_count": null,
   "id": "63eab598-3f61-4532-9892-330ce82abc46",
   "metadata": {
    "tags": []
   },
   "outputs": [],
   "source": [
    "#next page\n",
    "uzt.submit_asp_form(next_page_href.data)\n"
   ]
  },
  {
   "cell_type": "code",
   "execution_count": null,
   "id": "25482e49-8da2-46c4-981c-e0ffa406eb82",
   "metadata": {
    "tags": []
   },
   "outputs": [],
   "source": [
    "# open page 2\n",
    "uzt.submit_asp_form(\"javascript:__doPostBack('ctl00$MainArea$SearchResultsList$POGrid$ctl29$PageBtn10','')\")\n",
    "uzt.save_to_html(\"save00_card.html\")"
   ]
  },
  {
   "cell_type": "code",
   "execution_count": null,
   "id": "f235b880-7d91-4c8c-814e-baa29c3cac2b",
   "metadata": {
    "tags": []
   },
   "outputs": [],
   "source": [
    "need_to_get = (\"__VIEWSTATE\", \"__VIEWSTATEGENERATOR\", \"__EVENTVALIDATION\")\n",
    "asp_inputs = uzt.asp_form_inputs\n",
    "asp_inputs"
   ]
  },
  {
   "cell_type": "code",
   "execution_count": null,
   "id": "cd8b3ed5-2e1f-4d34-a6b4-13e1c9bb4b0c",
   "metadata": {
    "tags": []
   },
   "outputs": [],
   "source": [
    "uzt.get(url=uzt.next_url)"
   ]
  },
  {
   "cell_type": "raw",
   "id": "26f6e9f2-603e-498e-bf26-c2dde116adaa",
   "metadata": {},
   "source": [
    "#ToDo  is_next_page!!!\n",
    "==================================="
   ]
  },
  {
   "cell_type": "code",
   "execution_count": null,
   "id": "6a9e3141-a115-45a2-a1b1-06e7c569790b",
   "metadata": {
    "tags": []
   },
   "outputs": [],
   "source": [
    "jobs_list = list()"
   ]
  },
  {
   "cell_type": "code",
   "execution_count": null,
   "id": "6997405a-c4a3-4571-ba81-0855a1db8f57",
   "metadata": {
    "tags": []
   },
   "outputs": [],
   "source": [
    "# поиск строк и ячеек\n",
    "table = uzt.tree.css_first(\"#ctl00_MainArea_SearchResultsList_POGrid\")\n",
    "tr_list = table.css(\"tr:not(:nth-child(-n+2)):not(:last-child)\")\n",
    "for tr in tr_list:\n",
    "    cells = tr.css(\"td\")\n",
    "    date_from, date_to, title, company, place = [item.text().strip() for item in tr.css(\"td\")]\n",
    "    js_url = cells[2].css_first(\"a\").attrs.get(\"href\")\n",
    "    uzt.submit_asp_form(js_url, only_url=True)\n",
    "    dirty_url = uzt.next_url\n",
    "    match = re.search(r\"(^.+aspx\\?).+(itemID.+)$\", dirty_url)\n",
    "    url = match.group(1)+ match.group(2)\n",
    "    job = pd.Job(date_from=date_from,\n",
    "              date_to= date_to,\n",
    "              title= title,\n",
    "              company= company,\n",
    "              place= place,\n",
    "              url = url,\n",
    "             )\n",
    "    \n",
    "    jobs_list.append(job.dict())\n",
    "    \n",
    "print(len(jobs_list))\n",
    "print(json.dumps(jobs_list))\n",
    "cells\n",
    "job\n"
   ]
  },
  {
   "cell_type": "code",
   "execution_count": null,
   "id": "808d985f-7f4a-468f-844e-9e68eb55ed86",
   "metadata": {
    "tags": []
   },
   "outputs": [],
   "source": [
    "# open job's card\n",
    "uzt.submit_asp_form(\"javascript:__doPostBack('ctl00$MainArea$SearchResultsList$POGrid$ctl04$PositionTitleButton','')\", only_url=True)"
   ]
  },
  {
   "cell_type": "code",
   "execution_count": null,
   "id": "9bb28dbb-a9a8-41ab-ae8f-89818317ddc0",
   "metadata": {
    "tags": []
   },
   "outputs": [],
   "source": [
    "uzt.next_url"
   ]
  },
  {
   "cell_type": "code",
   "execution_count": null,
   "id": "f574d3c6-9b1b-4275-9ea4-3db83a3ba50d",
   "metadata": {
    "tags": []
   },
   "outputs": [],
   "source": [
    "uzt.response.text"
   ]
  },
  {
   "cell_type": "code",
   "execution_count": null,
   "id": "ced60cc8-6a57-488d-b702-e6450a765b88",
   "metadata": {
    "tags": []
   },
   "outputs": [],
   "source": [
    "uzt.asp_form_inputs\n"
   ]
  },
  {
   "cell_type": "code",
   "execution_count": null,
   "id": "2d18ddce-d96d-4d1a-bba6-208a1af26602",
   "metadata": {
    "tags": []
   },
   "outputs": [],
   "source": [
    "class AttrFromDict(dict):\n",
    "    def as_class(self, dictionary: dict):\n",
    "        [setattr(self, key, value) for key, value in dictionary.items()]\n"
   ]
  },
  {
   "cell_type": "code",
   "execution_count": null,
   "id": "1d24e548-12f2-4478-842d-5ad3a49d5694",
   "metadata": {
    "tags": []
   },
   "outputs": [],
   "source": [
    "d = {\"date_from\": \"2023-05-08\", \"date_to\": \"2023-05-19\", \"title\": \"\\u016akio darbininkas\", \"company\": \"\\u016akininko \\u016bkis, 1359663\", \"place\": \"Mol\\u0117t\\u0173 rajono sav., Kreivi\\u0161kiai\", \"url\": \"https://portal.uzt.lt//LDBPortal/Pages/PositionOpeningPublic/PublicOpenPositionCard.aspx?itemID=b70f28b2-89e0-4608-acfd-763670ca62b6\"}\n"
   ]
  }
 ],
 "metadata": {
  "kernelspec": {
   "display_name": "Python 3 (ipykernel)",
   "language": "python",
   "name": "python3"
  },
  "language_info": {
   "codemirror_mode": {
    "name": "ipython",
    "version": 3
   },
   "file_extension": ".py",
   "mimetype": "text/x-python",
   "name": "python",
   "nbconvert_exporter": "python",
   "pygments_lexer": "ipython3",
   "version": "3.11.3"
  }
 },
 "nbformat": 4,
 "nbformat_minor": 5
}
