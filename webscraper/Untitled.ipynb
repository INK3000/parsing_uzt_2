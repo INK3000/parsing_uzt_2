{
 "cells": [
  {
   "cell_type": "code",
   "execution_count": 1,
   "id": "ac68febe-e702-4876-87dc-de02d8f4fde8",
   "metadata": {
    "tags": []
   },
   "outputs": [],
   "source": [
    "import re\n",
    "import json"
   ]
  },
  {
   "cell_type": "code",
   "execution_count": 2,
   "id": "052e47bd-e5de-4cfd-b836-caf0aa44fb63",
   "metadata": {
    "tags": []
   },
   "outputs": [],
   "source": [
    "from app.uzt_client import UZTClient\n",
    "from app import pydantic_models as pd\n",
    "import main"
   ]
  },
  {
   "cell_type": "code",
   "execution_count": 3,
   "id": "d2d288b8-dbc6-47d3-931f-b926c7602329",
   "metadata": {
    "tags": []
   },
   "outputs": [],
   "source": [
    "#getting categories list\n",
    "def get_categories_from_page(client):\n",
    "    categories = list()\n",
    "    a_list = client.tree.css(\"#ctl00_MainArea_UpdatePanel1 li a\")\n",
    "    for a in a_list:\n",
    "        category = pd.Category(\n",
    "            name = a.text(),\n",
    "            href = a.attrs.get('href')\n",
    "        )\n",
    "        categories.append(category)\n",
    "    \n",
    "    return categories\n",
    "    "
   ]
  },
  {
   "cell_type": "code",
   "execution_count": 4,
   "id": "edc8b941-82bb-4282-ae4e-2ea2dc2e92fd",
   "metadata": {
    "tags": []
   },
   "outputs": [],
   "source": [
    "#getting href to next page\n",
    "def get_next_page_href(client):\n",
    "    a = client.tree.css_first(\"table.Pager td:last-child a\")\n",
    "    if not a:\n",
    "        return False\n",
    "    return a.attrs.get(\"href\")\n"
   ]
  },
  {
   "cell_type": "code",
   "execution_count": 36,
   "id": "21ed6949-9ea9-491b-b5f9-7af41db5e614",
   "metadata": {
    "tags": []
   },
   "outputs": [
    {
     "data": {
      "text/plain": [
       "<Response [200 OK]>"
      ]
     },
     "execution_count": 36,
     "metadata": {},
     "output_type": "execute_result"
    }
   ],
   "source": [
    "uzt = UZTClient()\n",
    "uzt.get(url=\"https://portal.uzt.lt/LDBPortal/Pages/ServicesForEmployees.aspx\")"
   ]
  },
  {
   "cell_type": "code",
   "execution_count": 6,
   "id": "fc46803e-0cdd-45ab-8fcc-e64b84077f41",
   "metadata": {
    "tags": []
   },
   "outputs": [],
   "source": [
    "cats = main.get_categories()"
   ]
  },
  {
   "cell_type": "code",
   "execution_count": null,
   "id": "9c28ca08-3029-440f-a769-8a2c747b2cea",
   "metadata": {
    "tags": []
   },
   "outputs": [],
   "source": [
    "cats"
   ]
  },
  {
   "cell_type": "code",
   "execution_count": null,
   "id": "c1567da1-6513-4988-a28c-1d4c104d31a4",
   "metadata": {
    "tags": []
   },
   "outputs": [],
   "source": [
    "create_resp = main.send_data_to_api(endpoint=\"/api/categories/create\", data=cats.data)"
   ]
  },
  {
   "cell_type": "code",
   "execution_count": 13,
   "id": "e4f2a591-4ece-49ac-a1b4-7f9be5cd757d",
   "metadata": {
    "tags": []
   },
   "outputs": [
    {
     "data": {
      "text/plain": [
       "'1|#||4|190|pageRedirect||%2fLDBPortal%2fPages%2fPositionOpeningPublic%2fPublicOpenPositionCard.aspx%3fbranch%3dPOSearch%26pageId%3d643fbcc5-b793-4d14-9773-5b704d57344f%26itemID%3d6fd5b40c-5c63-497f-87cb-7cdadc412fb3|'"
      ]
     },
     "execution_count": 13,
     "metadata": {},
     "output_type": "execute_result"
    }
   ],
   "source": [
    "uzt.redirect_response.text"
   ]
  },
  {
   "cell_type": "code",
   "execution_count": null,
   "id": "174f1dd5-61b3-45fc-95e4-6144b7624a79",
   "metadata": {
    "tags": []
   },
   "outputs": [],
   "source": [
    "uzt.response.text"
   ]
  },
  {
   "cell_type": "code",
   "execution_count": null,
   "id": "5990c5ac-c15c-40a0-a402-cfb44d71c7dc",
   "metadata": {},
   "outputs": [],
   "source": []
  },
  {
   "cell_type": "code",
   "execution_count": null,
   "id": "69637edd-fadb-46e3-a5d1-c15db85e8c15",
   "metadata": {
    "tags": []
   },
   "outputs": [],
   "source": [
    "json.dumps(cats.data)"
   ]
  },
  {
   "cell_type": "code",
   "execution_count": 37,
   "id": "f4627910-48bf-4707-84d9-60fe7782b7d1",
   "metadata": {
    "tags": []
   },
   "outputs": [
    {
     "data": {
      "text/plain": [
       "<Response [200 OK]>"
      ]
     },
     "execution_count": 37,
     "metadata": {},
     "output_type": "execute_result"
    }
   ],
   "source": [
    "#open category\n",
    "uzt.submit_asp_form(cats[0].href)\n",
    "uzt.get(url=uzt.next_url)"
   ]
  },
  {
   "cell_type": "code",
   "execution_count": 57,
   "id": "671958b5-67c4-4044-9cd5-653bd51c5dce",
   "metadata": {
    "tags": []
   },
   "outputs": [
    {
     "data": {
      "text/plain": [
       "{'status': 'The file has been successfully saved as save00_card.html'}"
      ]
     },
     "execution_count": 57,
     "metadata": {},
     "output_type": "execute_result"
    }
   ],
   "source": [
    "uzt.save_to_html(\"save00_card.html\")"
   ]
  },
  {
   "cell_type": "code",
   "execution_count": 41,
   "id": "d6112978-3afd-4240-8234-87abe2919e3e",
   "metadata": {
    "tags": []
   },
   "outputs": [
    {
     "name": "stdout",
     "output_type": "stream",
     "text": [
      "ok=True data=\"javascript:__doPostBack('ctl00$MainArea$SearchResultsList$POGrid$ctl29$NextBtn','')\"\n"
     ]
    }
   ],
   "source": [
    "next_page_href = main.get_next_page_href(uzt)\n",
    "print(next_page_href)"
   ]
  },
  {
   "cell_type": "code",
   "execution_count": 27,
   "id": "63eab598-3f61-4532-9892-330ce82abc46",
   "metadata": {
    "tags": []
   },
   "outputs": [
    {
     "data": {
      "text/plain": [
       "<Response [200 OK]>"
      ]
     },
     "execution_count": 27,
     "metadata": {},
     "output_type": "execute_result"
    }
   ],
   "source": [
    "#next page\n",
    "uzt.submit_asp_form(next_page_href.data)\n"
   ]
  },
  {
   "cell_type": "code",
   "execution_count": null,
   "id": "25482e49-8da2-46c4-981c-e0ffa406eb82",
   "metadata": {
    "tags": []
   },
   "outputs": [],
   "source": [
    "# open page 2\n",
    "uzt.submit_asp_form(\"javascript:__doPostBack('ctl00$MainArea$SearchResultsList$POGrid$ctl29$PageBtn10','')\")\n",
    "uzt.save_to_html(\"save00_card.html\")"
   ]
  },
  {
   "cell_type": "code",
   "execution_count": null,
   "id": "f235b880-7d91-4c8c-814e-baa29c3cac2b",
   "metadata": {
    "tags": []
   },
   "outputs": [],
   "source": [
    "need_to_get = (\"__VIEWSTATE\", \"__VIEWSTATEGENERATOR\", \"__EVENTVALIDATION\")\n",
    "asp_inputs = uzt.asp_form_inputs\n",
    "asp_inputs"
   ]
  },
  {
   "cell_type": "code",
   "execution_count": null,
   "id": "cd8b3ed5-2e1f-4d34-a6b4-13e1c9bb4b0c",
   "metadata": {
    "tags": []
   },
   "outputs": [],
   "source": [
    "uzt.get(url=uzt.next_url)"
   ]
  },
  {
   "cell_type": "raw",
   "id": "26f6e9f2-603e-498e-bf26-c2dde116adaa",
   "metadata": {},
   "source": [
    "#ToDo  is_next_page!!!\n",
    "==================================="
   ]
  },
  {
   "cell_type": "code",
   "execution_count": 55,
   "id": "6a9e3141-a115-45a2-a1b1-06e7c569790b",
   "metadata": {
    "tags": []
   },
   "outputs": [],
   "source": [
    "jobs_list = list()"
   ]
  },
  {
   "cell_type": "code",
   "execution_count": 56,
   "id": "6997405a-c4a3-4571-ba81-0855a1db8f57",
   "metadata": {
    "tags": []
   },
   "outputs": [
    {
     "name": "stdout",
     "output_type": "stream",
     "text": [
      "25\n",
      "[{\"date_from\": \"2023-05-08\", \"date_to\": \"2023-05-19\", \"title\": \"\\u016akio darbininkas\", \"company\": \"\\u016akininko \\u016bkis, 1359663\", \"place\": \"Mol\\u0117t\\u0173 rajono sav., Kreivi\\u0161kiai\", \"url\": \"https://portal.uzt.lt//LDBPortal/Pages/PositionOpeningPublic/PublicOpenPositionCard.aspx?itemID=b70f28b2-89e0-4608-acfd-763670ca62b6\"}, {\"date_from\": \"2023-05-08\", \"date_to\": \"2023-05-30\", \"title\": \"Ekskavatorininkas\", \"company\": \"U\\u017edaroji akcin\\u0117 bendrov\\u0117 \\\"DOVYRA\\\"\", \"place\": \"\\u0160iauli\\u0173 miesto sav., \\u0160iauliai\", \"url\": \"https://portal.uzt.lt//LDBPortal/Pages/PositionOpeningPublic/PublicOpenPositionCard.aspx?itemID=6fd5b40c-5c63-497f-87cb-7cdadc412fb3\"}, {\"date_from\": \"2023-05-08\", \"date_to\": \"2023-05-30\", \"title\": \"Nekvalifikuotas mel\\u017e\\u0117jas\", \"company\": \"\\u016akininko \\u016bkis, 6932788\", \"place\": \"Pasvalio rajono sav., Kiemeliai\", \"url\": \"https://portal.uzt.lt//LDBPortal/Pages/PositionOpeningPublic/PublicOpenPositionCard.aspx?itemID=06bf6afc-f587-49f1-bb62-48df9432e251\"}, {\"date_from\": \"2023-05-08\", \"date_to\": \"2023-05-29\", \"title\": \"\\u0160\\u0117rikas\", \"company\": \"UAB \\\"Ugita\\\"\", \"place\": \"Tel\\u0161i\\u0173 rajono sav., Upyna\", \"url\": \"https://portal.uzt.lt//LDBPortal/Pages/PositionOpeningPublic/PublicOpenPositionCard.aspx?itemID=0c7ef184-1b96-4833-97c4-88956a7fc7c9\"}, {\"date_from\": \"2023-05-08\", \"date_to\": \"2023-05-19\", \"title\": \"Vairuotojas - mechanizatorius\", \"company\": \"UAB \\\"Stakorda\\\"\", \"place\": \"Klaip\\u0117dos miesto sav., Klaip\\u0117da\", \"url\": \"https://portal.uzt.lt//LDBPortal/Pages/PositionOpeningPublic/PublicOpenPositionCard.aspx?itemID=8c3ded2d-2743-495b-99f1-5020cad3eeda\"}, {\"date_from\": \"2023-05-08\", \"date_to\": \"2023-05-19\", \"title\": \"Ekskavatoriaus operatorius\", \"company\": \"UAB \\\"MEDINITA\\\"\", \"place\": \"Druskinink\\u0173 sav., Stra\\u010di\\u016bnai\", \"url\": \"https://portal.uzt.lt//LDBPortal/Pages/PositionOpeningPublic/PublicOpenPositionCard.aspx?itemID=5c709dea-d88e-4e4e-9cec-e10bde9a86cf\"}, {\"date_from\": \"2023-05-08\", \"date_to\": \"2023-05-25\", \"title\": \"Ekskavatorininkas\", \"company\": \"Individuali \\u012fmon\\u0117 \\\"Ve\\u017ekasa\\\"\", \"place\": \"\\u0160ilal\\u0117s rajono sav., Balsiai\", \"url\": \"https://portal.uzt.lt//LDBPortal/Pages/PositionOpeningPublic/PublicOpenPositionCard.aspx?itemID=f0584d02-51a7-4da3-a72b-c2d4cee14f17\"}, {\"date_from\": \"2023-05-08\", \"date_to\": \"2023-05-19\", \"title\": \"Ekskavatoriaus ma\\u0161inistas\", \"company\": \"U\\u017edaroji akcin\\u0117 bendrov\\u0117 \\\"KAR\\u017dYGIS\\\"\", \"place\": \"Vilniaus miesto sav., Vilnius\", \"url\": \"https://portal.uzt.lt//LDBPortal/Pages/PositionOpeningPublic/PublicOpenPositionCard.aspx?itemID=8407b926-862d-4b77-966d-3d12ed1e458e\"}, {\"date_from\": \"2023-05-08\", \"date_to\": \"2023-05-30\", \"title\": \"Ekskavatorininkas\", \"company\": \"U\\u017edaroji akcin\\u0117 bendrov\\u0117 \\\"Autokausta\\\"\", \"place\": \"Kauno miesto sav., Kaunas\", \"url\": \"https://portal.uzt.lt//LDBPortal/Pages/PositionOpeningPublic/PublicOpenPositionCard.aspx?itemID=95a67e5c-da44-4510-8b22-0da3c5814907\"}, {\"date_from\": \"2023-05-08\", \"date_to\": \"2023-05-29\", \"title\": \"Mel\\u017e\\u0117jas  (-a)\", \"company\": \"UAB \\\"Ugita\\\"\", \"place\": \"Tel\\u0161i\\u0173 rajono sav., Upyna\", \"url\": \"https://portal.uzt.lt//LDBPortal/Pages/PositionOpeningPublic/PublicOpenPositionCard.aspx?itemID=aee1e4c2-69cd-4a61-a70e-7669ddb41c82\"}, {\"date_from\": \"2023-05-08\", \"date_to\": \"2023-05-30\", \"title\": \"Gryb\\u0173 auginimo ir skynimo specialistas (-\\u0117)\", \"company\": \"Baltic Champs, UAB\", \"place\": \"\\u0160irvint\\u0173 rajono sav., \\u0160irvintos\", \"url\": \"https://portal.uzt.lt//LDBPortal/Pages/PositionOpeningPublic/PublicOpenPositionCard.aspx?itemID=3d2af73d-68a5-4815-ac3f-9daf428185de\"}, {\"date_from\": \"2023-05-08\", \"date_to\": \"2023-05-28\", \"title\": \"Gryb\\u0173 auginimo ir skynimo specialistas (-\\u0117)\", \"company\": \"Baltic Champs, UAB\", \"place\": \"Joni\\u0161kio rajono sav., Joni\\u0161kis\", \"url\": \"https://portal.uzt.lt//LDBPortal/Pages/PositionOpeningPublic/PublicOpenPositionCard.aspx?itemID=71ca3f2a-9d6e-49cb-85eb-b38c44397459\"}, {\"date_from\": \"2023-05-08\", \"date_to\": \"2023-05-31\", \"title\": \"R\\u016bkyklos darbuotojas(-a)\", \"company\": \"UAB \\\"REBA\\\"\", \"place\": \"Kretingos rajono sav., Gestautai\", \"url\": \"https://portal.uzt.lt//LDBPortal/Pages/PositionOpeningPublic/PublicOpenPositionCard.aspx?itemID=820eef97-0bb5-4355-9986-14246bd7a0a7\"}, {\"date_from\": \"2023-05-08\", \"date_to\": \"2023-06-07\", \"title\": \"Sodininkas/ Gen\\u0117tojas\", \"company\": \"UAB Aplinkos prie\\u017ei\\u016bros centras\", \"place\": \"Kauno miesto sav., Kaunas\", \"url\": \"https://portal.uzt.lt//LDBPortal/Pages/PositionOpeningPublic/PublicOpenPositionCard.aspx?itemID=cab83da8-99e6-4284-b0c4-ecd1c9223d77\"}, {\"date_from\": \"2023-05-08\", \"date_to\": \"2023-05-31\", \"title\": \"Gryb\\u0173 auginimo ir skynimo specialistas (-\\u0117)\", \"company\": \"Baltic Champs, UAB\", \"place\": \"Pakruojo rajono sav., Pakruojis\", \"url\": \"https://portal.uzt.lt//LDBPortal/Pages/PositionOpeningPublic/PublicOpenPositionCard.aspx?itemID=b8fbf409-9ded-406b-9779-f9d309f6c0c4\"}, {\"date_from\": \"2023-05-08\", \"date_to\": \"2023-05-30\", \"title\": \"Gryb\\u0173 auginimo ir skynimo specialistas (-\\u0117)\", \"company\": \"Baltic Champs, UAB\", \"place\": \"\\u0160iauli\\u0173 miesto sav., \\u0160iauliai\", \"url\": \"https://portal.uzt.lt//LDBPortal/Pages/PositionOpeningPublic/PublicOpenPositionCard.aspx?itemID=787244f3-a0fc-4e2e-bc2a-648dc0567060\"}, {\"date_from\": \"2023-05-08\", \"date_to\": \"2023-05-30\", \"title\": \"\\u016akio darbininkas\", \"company\": \"\\u016akininko \\u016bkis, 7693137\", \"place\": \"\\u0160ilal\\u0117s rajono sav., Padvarninkai\", \"url\": \"https://portal.uzt.lt//LDBPortal/Pages/PositionOpeningPublic/PublicOpenPositionCard.aspx?itemID=590c9dc0-608c-40a3-8ab4-510b3ee923fd\"}, {\"date_from\": \"2023-05-08\", \"date_to\": \"2023-05-28\", \"title\": \"Gryb\\u0173 auginimo ir skynimo specialistas (-\\u0117)\", \"company\": \"Baltic Champs, UAB\", \"place\": \"Ukmerg\\u0117s rajono sav., Ukmerg\\u0117\", \"url\": \"https://portal.uzt.lt//LDBPortal/Pages/PositionOpeningPublic/PublicOpenPositionCard.aspx?itemID=1dda63a0-091a-4ff6-a56e-e3319e299b3e\"}, {\"date_from\": \"2023-05-08\", \"date_to\": \"2023-05-22\", \"title\": \"Gryb\\u0173 auginimo ir skynimo specialistas (-\\u0117)\", \"company\": \"Baltic Champs, UAB\", \"place\": \"Vilniaus miesto sav., Vilnius\", \"url\": \"https://portal.uzt.lt//LDBPortal/Pages/PositionOpeningPublic/PublicOpenPositionCard.aspx?itemID=de1fbac5-9235-4bb9-a74e-7bada7928160\"}, {\"date_from\": \"2023-05-08\", \"date_to\": \"2023-05-14\", \"title\": \"Derintojas\", \"company\": \"U\\u017edaroji akcin\\u0117 bendrov\\u0117 \\\"Ajeras\\\"\", \"place\": \"Jonavos rajono sav., Vaivadi\\u0161kiai\", \"url\": \"https://portal.uzt.lt//LDBPortal/Pages/PositionOpeningPublic/PublicOpenPositionCard.aspx?itemID=fa4f0619-32d9-41f2-9dd5-55d960620349\"}, {\"date_from\": \"2023-05-08\", \"date_to\": \"2023-06-07\", \"title\": \"Pj\\u016bklininkas\", \"company\": \"UAB \\\"Renesansas\\\"\", \"place\": \"Utenos rajono sav., Utena\", \"url\": \"https://portal.uzt.lt//LDBPortal/Pages/PositionOpeningPublic/PublicOpenPositionCard.aspx?itemID=1a055916-7698-4805-85e9-14e6c48201e1\"}, {\"date_from\": \"2023-05-08\", \"date_to\": \"2023-05-25\", \"title\": \"Traktorininkas\", \"company\": \"UAB \\\"Arg\\u016bn\\u0117\\\"\", \"place\": \"Pakruojo rajono sav., Pae\\u017eeriai\", \"url\": \"https://portal.uzt.lt//LDBPortal/Pages/PositionOpeningPublic/PublicOpenPositionCard.aspx?itemID=fda40c2b-bdf5-4d22-969f-0c9bddac5415\"}, {\"date_from\": \"2023-05-08\", \"date_to\": \"2023-05-29\", \"title\": \"\\u0160altkalvis - remontininkas\", \"company\": \"UAB \\\"Aldigus\\\"\", \"place\": \"Kauno miesto sav., Kaunas\", \"url\": \"https://portal.uzt.lt//LDBPortal/Pages/PositionOpeningPublic/PublicOpenPositionCard.aspx?itemID=c7108f83-b0a3-438a-8ee4-22e61dc671e3\"}, {\"date_from\": \"2023-05-08\", \"date_to\": \"2023-05-28\", \"title\": \"Pauk\\u0161\\u010di\\u0173 \\u0161\\u0117rikas\", \"company\": \"UAB \\\"Hesona\\\"\", \"place\": \"Druskinink\\u0173 sav., Gr\\u016btas\", \"url\": \"https://portal.uzt.lt//LDBPortal/Pages/PositionOpeningPublic/PublicOpenPositionCard.aspx?itemID=a2799ef1-c41a-405b-9c99-0c2cca144176\"}, {\"date_from\": \"2023-05-08\", \"date_to\": \"2023-06-30\", \"title\": \"Gyvuli\\u0173 ir fermos pri\\u017ei\\u016br\\u0117tojos\", \"company\": \"U\\u017edaroji akcin\\u0117 bendrov\\u0117 Dotnuvos eksperimentinis \\u016bkis\", \"place\": \"K\\u0117daini\\u0173 rajono sav., Valinava\", \"url\": \"https://portal.uzt.lt//LDBPortal/Pages/PositionOpeningPublic/PublicOpenPositionCard.aspx?itemID=ea942407-cc68-418a-975e-724b6ce60cae\"}]\n"
     ]
    },
    {
     "data": {
      "text/plain": [
       "Job(date_from='2023-05-08', date_to='2023-06-30', title='Gyvulių ir fermos prižiūrėtojos', company='Uždaroji akcinė bendrovė Dotnuvos eksperimentinis ūkis', place='Kėdainių rajono sav., Valinava', url='https://portal.uzt.lt//LDBPortal/Pages/PositionOpeningPublic/PublicOpenPositionCard.aspx?itemID=ea942407-cc68-418a-975e-724b6ce60cae')"
      ]
     },
     "execution_count": 56,
     "metadata": {},
     "output_type": "execute_result"
    }
   ],
   "source": [
    "# поиск строк и ячеек\n",
    "table = uzt.tree.css_first(\"#ctl00_MainArea_SearchResultsList_POGrid\")\n",
    "tr_list = table.css(\"tr:not(:nth-child(-n+2)):not(:last-child)\")\n",
    "for tr in tr_list:\n",
    "    cells = tr.css(\"td\")\n",
    "    date_from, date_to, title, company, place = [item.text().strip() for item in tr.css(\"td\")]\n",
    "    js_url = cells[2].css_first(\"a\").attrs.get(\"href\")\n",
    "    uzt.submit_asp_form(js_url, only_url=True)\n",
    "    dirty_url = uzt.next_url\n",
    "    match = re.search(r\"(^.+aspx\\?).+(itemID.+)$\", dirty_url)\n",
    "    url = match.group(1)+ match.group(2)\n",
    "    job = pd.Job(date_from=date_from,\n",
    "              date_to= date_to,\n",
    "              title= title,\n",
    "              company= company,\n",
    "              place= place,\n",
    "              url = url,\n",
    "             )\n",
    "    \n",
    "    jobs_list.append(job.dict())\n",
    "    \n",
    "print(len(jobs_list))\n",
    "print(json.dumps(jobs_list))\n",
    "cells\n",
    "job\n"
   ]
  },
  {
   "cell_type": "code",
   "execution_count": 25,
   "id": "808d985f-7f4a-468f-844e-9e68eb55ed86",
   "metadata": {
    "tags": []
   },
   "outputs": [
    {
     "data": {
      "text/plain": [
       "<Response [200 OK]>"
      ]
     },
     "execution_count": 25,
     "metadata": {},
     "output_type": "execute_result"
    }
   ],
   "source": [
    "# open job's card\n",
    "uzt.submit_asp_form(\"javascript:__doPostBack('ctl00$MainArea$SearchResultsList$POGrid$ctl04$PositionTitleButton','')\", only_url=True)"
   ]
  },
  {
   "cell_type": "code",
   "execution_count": 22,
   "id": "9bb28dbb-a9a8-41ab-ae8f-89818317ddc0",
   "metadata": {
    "tags": []
   },
   "outputs": [
    {
     "data": {
      "text/plain": [
       "'https://portal.uzt.lt//LDBPortal/Pages/PositionOpeningPublic/PublicOpenPositionCard.aspx?branch=POSearch&pageId=3cd162b2-1ca2-4282-8514-f69eda327a50&itemID=87b2785d-857c-4b7f-b538-7d75e2982291'"
      ]
     },
     "execution_count": 22,
     "metadata": {},
     "output_type": "execute_result"
    }
   ],
   "source": [
    "uzt.next_url"
   ]
  },
  {
   "cell_type": "code",
   "execution_count": null,
   "id": "f574d3c6-9b1b-4275-9ea4-3db83a3ba50d",
   "metadata": {
    "tags": []
   },
   "outputs": [],
   "source": [
    "uzt.response.text"
   ]
  },
  {
   "cell_type": "code",
   "execution_count": null,
   "id": "ced60cc8-6a57-488d-b702-e6450a765b88",
   "metadata": {
    "tags": []
   },
   "outputs": [],
   "source": [
    "uzt.asp_form_inputs\n"
   ]
  }
 ],
 "metadata": {
  "kernelspec": {
   "display_name": "Python 3 (ipykernel)",
   "language": "python",
   "name": "python3"
  },
  "language_info": {
   "codemirror_mode": {
    "name": "ipython",
    "version": 3
   },
   "file_extension": ".py",
   "mimetype": "text/x-python",
   "name": "python",
   "nbconvert_exporter": "python",
   "pygments_lexer": "ipython3",
   "version": "3.11.3"
  }
 },
 "nbformat": 4,
 "nbformat_minor": 5
}
